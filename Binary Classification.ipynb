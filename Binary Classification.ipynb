{
 "cells": [
  {
   "cell_type": "markdown",
   "id": "42eeb52b-a918-45d6-8daa-57f4487e1875",
   "metadata": {},
   "source": [
    "# Binary Classification"
   ]
  },
  {
   "cell_type": "code",
   "execution_count": 2,
   "id": "7bf02430-ded8-4362-8c86-2c9dacfc8bfd",
   "metadata": {},
   "outputs": [],
   "source": [
    "import os \n",
    "import zipfile \n",
    "import requests \n",
    "import numpy as np \n",
    "import matplotlib.pyplot as plt \n",
    "from PIL import Image \n",
    "from sklearn.model_selection import train_test_split \n",
    "from sklearn.preprocessing import LabelBinarizer"
   ]
  },
  {
   "cell_type": "code",
   "execution_count": 3,
   "id": "30d31443-0b3a-4132-85b0-5977dc511f88",
   "metadata": {},
   "outputs": [
    {
     "name": "stdout",
     "output_type": "stream",
     "text": [
      "Dataset extracted to: data/cats_and_dogs_filtered\n",
      "Contents: ['train', 'validation', 'vectorize.py']\n"
     ]
    }
   ],
   "source": [
    "dataset_url = \"https://storage.googleapis.com/mledu-datasets/cats_and_dogs_filtered.zip\" \n",
    "response = requests.get(dataset_url) \n",
    "zip_path = \"dataset.zip\" \n",
    "# Save the zip file locally \n",
    "with open(zip_path, \"wb\") as file: \n",
    "    file.write(response.content) \n",
    "# Extract the zip file \n",
    "with zipfile.ZipFile(zip_path, 'r') as zip_ref: \n",
    "    zip_ref.extractall(\"data\") \n",
    "os.remove(zip_path) \n",
    "# Output directory structure \n",
    "extracted_dir = \"data/cats_and_dogs_filtered\" \n",
    "print(\"Dataset extracted to:\", extracted_dir) \n",
    "print(\"Contents:\", os.listdir(extracted_dir))"
   ]
  },
  {
   "cell_type": "code",
   "execution_count": 4,
   "id": "902860e7-bb5c-4e50-b523-6555bf3b236a",
   "metadata": {},
   "outputs": [
    {
     "name": "stdout",
     "output_type": "stream",
     "text": [
      "Number of images loaded: 2000\n",
      "Number of labels loaded: 2000\n",
      "Example label: cats\n"
     ]
    }
   ],
   "source": [
    "target_size = (64, 64) \n",
    "images, labels = [], [] \n",
    "\n",
    "for label in [\"cats\", \"dogs\"]: \n",
    "    folder = os.path.join(\"data/cats_and_dogs_filtered/train\", label) \n",
    "    for img_file in os.listdir(folder): \n",
    "        img_path = os.path.join(folder, img_file) \n",
    "        try: \n",
    "            img = Image.open(img_path).resize(target_size).convert(\"L\") # Convert to grayscale \n",
    "            images.append(np.asarray(img).flatten()) \n",
    "            labels.append(label) \n",
    "        except Exception as e: \n",
    "            print(f\"Error loading image {img_path}: {e}\") \n",
    "\n",
    "images = np.array(images) \n",
    "# Display loaded data \n",
    "print(\"Number of images loaded:\", len(images)) \n",
    "print(\"Number of labels loaded:\", len(labels)) \n",
    "print(\"Example label:\", labels[1]) \n",
    "labels = np.array(labels)"
   ]
  },
  {
   "cell_type": "code",
   "execution_count": null,
   "id": "183a1327-fc86-48f5-84ad-9f9def40ffb7",
   "metadata": {},
   "outputs": [],
   "source": [
    "lr = 0.01\n",
    "epochs = 10\n",
    "weights = np.random.rand(X_train.shape[1])\n",
    "bias = np.random.rand(1)\n",
    "accuracy_history = []"
   ]
  },
  {
   "cell_type": "code",
   "execution_count": null,
   "id": "9f47c1aa-1a66-4786-96b5-38694710293d",
   "metadata": {},
   "outputs": [],
   "source": [
    "for epoch in range(epochs):\n",
    "    correct = 0\n",
    "    for i in range(len(X_train)):\n",
    "    linear_output = np.dot(X_train[i], weights) + bias\n",
    "    prediction = 1 if linear_output > 0 else 0\n",
    "    correct += 1 if prediction == y_train[i] else 0\n",
    "    error = y_train[i] - prediction\n",
    "    weights += lr * error * X_train[i]\n",
    "    bias += lr * error\n",
    "\n",
    "accuracy = correct / len(X_train)\n",
    "accuracy_history.append(accuracy)\n",
    "print(f\"Epoch {epoch + 1}/{epochs}: Training Accuracy = {accuracy:.2f}\")\n",
    "# Display final weights and bias\n",
    "print(\"Final weights:\", weights[:5]) # Show the first 5 weights\n",
    "print(\"Final bias:\", bias)"
   ]
  }
 ],
 "metadata": {
  "kernelspec": {
   "display_name": "Python 3 (ipykernel)",
   "language": "python",
   "name": "python3"
  },
  "language_info": {
   "codemirror_mode": {
    "name": "ipython",
    "version": 3
   },
   "file_extension": ".py",
   "mimetype": "text/x-python",
   "name": "python",
   "nbconvert_exporter": "python",
   "pygments_lexer": "ipython3",
   "version": "3.12.7"
  }
 },
 "nbformat": 4,
 "nbformat_minor": 5
}
